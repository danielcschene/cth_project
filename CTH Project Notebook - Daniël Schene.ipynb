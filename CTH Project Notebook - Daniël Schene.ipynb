{
 "cells": [
  {
   "cell_type": "markdown",
   "metadata": {},
   "source": [
    "# 1. Intro"
   ]
  },
  {
   "cell_type": "markdown",
   "metadata": {},
   "source": [
    "Social media, in the broadest sense of the word, has become a permanent and increasingly vital platform of communication, branding and self-representation for a wide variety of institutions, communities and companies. Universities are no exception, and previous research in (mainly) the marketing area points to these HEIs' (Higher Educational Institutions) role as active \"brands\". For instance, Palmer et al. (2016), Belanger et al. (2014), Balaji, Roy & Sadeque (2016) and Peruta & Shields (2018) (among others) all point out that due to an increasingly competitive global environment in the educational sector, but also because of (as we have seen at the UvA, which comprises an ongoing debate about financing) both political and market-based demands, universities are gravitating towards marketing strategies with students in the \"consumer-role\". Universities have to distinguish themselves from similar institutions not merely by academic excellence and scholarship quality, but also by creating an online presence, identity and brand which ties in with the institution at large. An overview of this \"institutional branding\" can be found in Belanger et al. (2014). Williams & Omar (2013) provide a throrough summary of HEIs' considerations and motives behind increased branding efforts and strategies. While part of these changing strategies are, so to speak, mandatory, with HEIs having to partake whether they want to or not, social media platforms also provide them with new ways of creating a certain identity, as mentioned. Fujita et al. (2018) investigated the online efforts of HEIs to enhance membership relations and experience, as well as identity creation, by mining HEI Facebook pages as well as surveying student populations. They found that through the co-creation of content and interaction that a platform such as Facebook provides, institutions increase member engagement and identification with the institution, and thus the \"brand\". In other words, these social media platforms have both an obligatory component as well as an opportunity component (which needn't be entirely seperate) in the context of HEIs' presence on social media platforms. These findings corobborate those of Clark et al. (2016), in which they argue that investment in social-media presence and marketing is vital for maintaining and also building relationships of HEIs with both their students and other stakeholders. \n",
    "\n",
    "The use of social media platforms by HEIs is therefore an interesting, if somewhat novel research area (the social media age is, arguably, only soon arriving at the end of its first decade). A small overview of previous findings follows. Brech et al. (2017) found that universities with a large fan-base on Facebook had lower levels of online user-engagement than smaller HEI pages. Furthermore, the relative interactivity of users with an HEI page increases with the length of posts. A third finding is that a university's reputation in terms of ranking (the paper uses the Times Higher Education Ranking) positively influences fan-base size on Facebook, leading to prestigious HEIs having an online network (and reach) way beyond the number of, for instance, enrolled students, which also strengthens their online market position and presence. Rutter, Roper & Lettice (2016) investigated Facebook and Twitter content of HEIs and found that, for instance, the aquisition of a large Twitter-following is (significantly) associated with recruitement (of new students) succes. Also the content type and level of interactivity and responsiveness of an HEI on social media play a role in both recruitment and online brand and community relations. Peruta & Shields (2018) point out that the post frequency of HEIs is associated with user-engagement levels, in that more posts generally result in less engagement (as mentioned in the first paragraph). They provide further evidence for the content of a Facebook post being more important or indicative of user-engagement than frequency of posts. Also, certain topics covered in the posts (such as athletics, news-related posts, admissions) showed a higher degree of user-engagement than other topics (campus-related, academic events). Lastly, their provide evidence for photos being the best way of increasing fan-engagement, corroborating previous findings in the field. \n",
    "\n",
    "As becomes apparent in this overview, this field of research is quite young and not a lot of content-based studies of social media posts by HEIs have been conducted (although I have, logically, not been able to cover the whole field). Lastly, a study by Kumar et al. (2018) uses VADER sentiment analysis to investigate different news outlets and their presence on social media. While media institutions/channels are not the same as universities, a similar pattern of increasing use of marketing-based strategies is arguably present in both. They both use social media in the ways described previously in this review, to esablish identity, community values and relationships with stakeholders and members, while they also rely on social media for branding and recruitement of potential new members. This current research project follows a similar trajectory, so a short review of the findings in the above mentioned paper is provided here. Some interesting findings, and also potentially useful for the present paper, include that posts with higher degrees of positive or negative sentiment evoke the most attention from users. Furthermore, the sentiment of the posts is indicative of the sentiment of the comments on these posts in that they tend to be similar (positive posts generally receive positive comments). Also, negative posts receive more comments, while positive posts receive more likes. \n",
    "\n",
    "While no individual, cristal-clear research question follows from this litarature review, a more general way of describing the present paper and its aims may be as follows:\n",
    "\n",
    "#### Are there noticable differences or distinctive features in the use of Facebook and the content of pages by Dutch universities, and if so, what are they? These may be investigated in terms of:\n",
    "\n",
    "   -Comment counts and like counts to different types of posts\n",
    "\n",
    "   -Emotions in reactions, in general and by post type or content\n",
    "\n",
    "   -Sentiment of posts and of comments\n",
    "\n",
    "   -Differences in frequently used words or key concepts as proxies of imporant topics/values of the HEIs\n",
    "\n",
    "   -Correlations of social-media use or features with enrollment numbers\n",
    "\n",
    "   -Correlations of the ranking or \"quality\" of an HEI with social-media use \n",
    "\n",
    "This paper will explore and set out to answer some of these questions, and is in that sense a work-in-progress, and will probably keep this status (proudly) at the end. "
   ]
  },
  {
   "cell_type": "markdown",
   "metadata": {},
   "source": [
    "# 2. Research Design"
   ]
  },
  {
   "cell_type": "markdown",
   "metadata": {},
   "source": [
    "The Facebook pages of four Dutch universities are the sources of this paper's data. These include two universities in the \"randstad\", namely the University of Amsterdam and Utrecht University, which are also two relatively large universities. The other two are the Radboud University in Nijmegen and Twente University. These are smaller universities, as well as being located outside of the randstad. These differences between institutions provide both a somewhat heterogeneous sample, as well as possibilities of comparing them by these different traits. \n",
    "\n",
    "Using the Netvizz application on Facebook, all posts and their top 200 comments were extracted for a two-year period between 01-01-2017 and 01-01-2019. Sentiment analysis was done using the VADER python package. All other packages and tools will be found in the script."
   ]
  },
  {
   "cell_type": "markdown",
   "metadata": {},
   "source": [
    "# 3. Data"
   ]
  },
  {
   "cell_type": "markdown",
   "metadata": {},
   "source": [
    "First we take a look at a dataframe which provides some general statistics about each university. I've made this dataframe as a first step in collecting some (potentially) relevant numbers on each HEI which I could not access inside the notebote (I probably could, but the scope and nature of this project made me decide to do it outside of the notebook):"
   ]
  },
  {
   "cell_type": "code",
   "execution_count": 1,
   "metadata": {},
   "outputs": [
    {
     "data": {
      "text/html": [
       "<div>\n",
       "<style scoped>\n",
       "    .dataframe tbody tr th:only-of-type {\n",
       "        vertical-align: middle;\n",
       "    }\n",
       "\n",
       "    .dataframe tbody tr th {\n",
       "        vertical-align: top;\n",
       "    }\n",
       "\n",
       "    .dataframe thead th {\n",
       "        text-align: right;\n",
       "    }\n",
       "</style>\n",
       "<table border=\"1\" class=\"dataframe\">\n",
       "  <thead>\n",
       "    <tr style=\"text-align: right;\">\n",
       "      <th></th>\n",
       "      <th>University</th>\n",
       "      <th>FB page ID</th>\n",
       "      <th>FB Likes/Followers</th>\n",
       "      <th>Enrolled students</th>\n",
       "      <th>New BA Avg</th>\n",
       "      <th>Total posts 17'-19'</th>\n",
       "      <th>Avg comments / post</th>\n",
       "      <th>THE Ranking</th>\n",
       "    </tr>\n",
       "  </thead>\n",
       "  <tbody>\n",
       "    <tr>\n",
       "      <th>0</th>\n",
       "      <td>Universiteit Van Amsterdam</td>\n",
       "      <td>113928981951563</td>\n",
       "      <td>122645</td>\n",
       "      <td>32588</td>\n",
       "      <td>5193</td>\n",
       "      <td>564</td>\n",
       "      <td>7.87</td>\n",
       "      <td>62</td>\n",
       "    </tr>\n",
       "    <tr>\n",
       "      <th>1</th>\n",
       "      <td>Universiteit Utrecht</td>\n",
       "      <td>315278225910</td>\n",
       "      <td>70353</td>\n",
       "      <td>30945</td>\n",
       "      <td>5125</td>\n",
       "      <td>656</td>\n",
       "      <td>19.54</td>\n",
       "      <td>74</td>\n",
       "    </tr>\n",
       "    <tr>\n",
       "      <th>2</th>\n",
       "      <td>Radboud Universiteit Nijmegen</td>\n",
       "      <td>212779830334</td>\n",
       "      <td>37360</td>\n",
       "      <td>20442</td>\n",
       "      <td>3584</td>\n",
       "      <td>368</td>\n",
       "      <td>16.23</td>\n",
       "      <td>123</td>\n",
       "    </tr>\n",
       "    <tr>\n",
       "      <th>3</th>\n",
       "      <td>Universiteit Twente</td>\n",
       "      <td>153677961330272</td>\n",
       "      <td>37629</td>\n",
       "      <td>9921</td>\n",
       "      <td>1854</td>\n",
       "      <td>883</td>\n",
       "      <td>1.86</td>\n",
       "      <td>184</td>\n",
       "    </tr>\n",
       "  </tbody>\n",
       "</table>\n",
       "</div>"
      ],
      "text/plain": [
       "                      University       FB page ID  FB Likes/Followers  \\\n",
       "0     Universiteit Van Amsterdam  113928981951563              122645   \n",
       "1           Universiteit Utrecht     315278225910               70353   \n",
       "2  Radboud Universiteit Nijmegen     212779830334               37360   \n",
       "3            Universiteit Twente  153677961330272               37629   \n",
       "\n",
       "   Enrolled students  New BA Avg  Total posts 17'-19'  Avg comments / post  \\\n",
       "0              32588        5193                  564                 7.87   \n",
       "1              30945        5125                  656                19.54   \n",
       "2              20442        3584                  368                16.23   \n",
       "3               9921        1854                  883                 1.86   \n",
       "\n",
       "   THE Ranking  \n",
       "0           62  \n",
       "1           74  \n",
       "2          123  \n",
       "3          184  "
      ]
     },
     "execution_count": 1,
     "metadata": {},
     "output_type": "execute_result"
    }
   ],
   "source": [
    "import pandas as pd\n",
    "\n",
    "general_df_url = 'https://raw.githubusercontent.com/danielschene/CTH-Project/master/CTH%20-%20Blad1.csv'\n",
    "general_df = pd.read_csv(general_df_url)\n",
    "\n",
    "general_df"
   ]
  },
  {
   "cell_type": "markdown",
   "metadata": {},
   "source": [
    "To clarify some of the column names: \n",
    "\n",
    "'New BA Avg' is the average number of new BA students over the last three years.\n",
    "\n",
    "Total posts 17'-19' is, as the titel suggest, the total amount of posts in the two year period (2017 and 2018)\n",
    "\n",
    "Avg comments / post is the average number of comments per post\n",
    "\n",
    "THE Ranking is the Universities ranking according to the Times Higher Education ranking. "
   ]
  },
  {
   "cell_type": "markdown",
   "metadata": {},
   "source": [
    "Next up we can load the Netvizz files and store them as variables:"
   ]
  },
  {
   "cell_type": "code",
   "execution_count": 2,
   "metadata": {},
   "outputs": [],
   "source": [
    "#First the general file containing stats on each post:\n",
    "\n",
    "UvA_posts = pd.read_csv('https://raw.githubusercontent.com/danielschene/CTH-Project/master/UvA/page_113928981951563_2019_01_30_12_32_57.tab', sep='\\t')\n",
    "UU_posts = pd.read_csv('https://raw.githubusercontent.com/danielschene/CTH-Project/master/UU/page_315278225910_2019_01_30_12_36_15.tab', sep='\\t')\n",
    "RUN_posts = pd.read_csv('https://raw.githubusercontent.com/danielschene/CTH-Project/master/RUN/page_212779830334_2019_01_30_12_45_02.tab', sep='\\t')\n",
    "UT_posts = pd.read_csv('https://raw.githubusercontent.com/danielschene/CTH-Project/master/UT/page_153677961330272_2019_01_30_12_47_22.tab', sep='\\t')"
   ]
  },
  {
   "cell_type": "code",
   "execution_count": 3,
   "metadata": {},
   "outputs": [
    {
     "data": {
      "text/html": [
       "<div>\n",
       "<style scoped>\n",
       "    .dataframe tbody tr th:only-of-type {\n",
       "        vertical-align: middle;\n",
       "    }\n",
       "\n",
       "    .dataframe tbody tr th {\n",
       "        vertical-align: top;\n",
       "    }\n",
       "\n",
       "    .dataframe thead th {\n",
       "        text-align: right;\n",
       "    }\n",
       "</style>\n",
       "<table border=\"1\" class=\"dataframe\">\n",
       "  <thead>\n",
       "    <tr style=\"text-align: right;\">\n",
       "      <th></th>\n",
       "      <th>post_published_unix</th>\n",
       "      <th>likes_count_fb</th>\n",
       "      <th>comments_count_fb</th>\n",
       "      <th>reactions_count_fb</th>\n",
       "      <th>shares_count_fb</th>\n",
       "      <th>engagement_fb</th>\n",
       "      <th>rea_LOVE</th>\n",
       "      <th>rea_HAHA</th>\n",
       "      <th>rea_WOW</th>\n",
       "      <th>rea_SAD</th>\n",
       "      <th>rea_ANGRY</th>\n",
       "      <th>rea_THANKFUL</th>\n",
       "    </tr>\n",
       "  </thead>\n",
       "  <tbody>\n",
       "    <tr>\n",
       "      <th>count</th>\n",
       "      <td>3.680000e+02</td>\n",
       "      <td>368.000000</td>\n",
       "      <td>368.000000</td>\n",
       "      <td>368.000000</td>\n",
       "      <td>368.000000</td>\n",
       "      <td>368.000000</td>\n",
       "      <td>368.000000</td>\n",
       "      <td>368.000000</td>\n",
       "      <td>368.000000</td>\n",
       "      <td>368.000000</td>\n",
       "      <td>368.000000</td>\n",
       "      <td>368.0</td>\n",
       "    </tr>\n",
       "    <tr>\n",
       "      <th>mean</th>\n",
       "      <td>1.515311e+09</td>\n",
       "      <td>52.600543</td>\n",
       "      <td>16.230978</td>\n",
       "      <td>57.728261</td>\n",
       "      <td>2.970109</td>\n",
       "      <td>76.929348</td>\n",
       "      <td>2.619565</td>\n",
       "      <td>0.402174</td>\n",
       "      <td>0.991848</td>\n",
       "      <td>0.937500</td>\n",
       "      <td>0.176630</td>\n",
       "      <td>0.0</td>\n",
       "    </tr>\n",
       "    <tr>\n",
       "      <th>std</th>\n",
       "      <td>1.810451e+07</td>\n",
       "      <td>73.394798</td>\n",
       "      <td>47.325511</td>\n",
       "      <td>80.432293</td>\n",
       "      <td>5.277754</td>\n",
       "      <td>113.340462</td>\n",
       "      <td>4.628057</td>\n",
       "      <td>2.583999</td>\n",
       "      <td>6.013376</td>\n",
       "      <td>7.276846</td>\n",
       "      <td>2.208183</td>\n",
       "      <td>0.0</td>\n",
       "    </tr>\n",
       "    <tr>\n",
       "      <th>min</th>\n",
       "      <td>1.483358e+09</td>\n",
       "      <td>1.000000</td>\n",
       "      <td>0.000000</td>\n",
       "      <td>1.000000</td>\n",
       "      <td>0.000000</td>\n",
       "      <td>2.000000</td>\n",
       "      <td>0.000000</td>\n",
       "      <td>0.000000</td>\n",
       "      <td>0.000000</td>\n",
       "      <td>0.000000</td>\n",
       "      <td>0.000000</td>\n",
       "      <td>0.0</td>\n",
       "    </tr>\n",
       "    <tr>\n",
       "      <th>25%</th>\n",
       "      <td>1.501363e+09</td>\n",
       "      <td>13.000000</td>\n",
       "      <td>0.000000</td>\n",
       "      <td>13.750000</td>\n",
       "      <td>0.000000</td>\n",
       "      <td>17.000000</td>\n",
       "      <td>0.000000</td>\n",
       "      <td>0.000000</td>\n",
       "      <td>0.000000</td>\n",
       "      <td>0.000000</td>\n",
       "      <td>0.000000</td>\n",
       "      <td>0.0</td>\n",
       "    </tr>\n",
       "    <tr>\n",
       "      <th>50%</th>\n",
       "      <td>1.514719e+09</td>\n",
       "      <td>27.500000</td>\n",
       "      <td>2.000000</td>\n",
       "      <td>29.500000</td>\n",
       "      <td>1.000000</td>\n",
       "      <td>37.500000</td>\n",
       "      <td>1.000000</td>\n",
       "      <td>0.000000</td>\n",
       "      <td>0.000000</td>\n",
       "      <td>0.000000</td>\n",
       "      <td>0.000000</td>\n",
       "      <td>0.0</td>\n",
       "    </tr>\n",
       "    <tr>\n",
       "      <th>75%</th>\n",
       "      <td>1.529370e+09</td>\n",
       "      <td>60.250000</td>\n",
       "      <td>9.000000</td>\n",
       "      <td>63.500000</td>\n",
       "      <td>3.000000</td>\n",
       "      <td>77.750000</td>\n",
       "      <td>3.000000</td>\n",
       "      <td>0.000000</td>\n",
       "      <td>0.000000</td>\n",
       "      <td>0.000000</td>\n",
       "      <td>0.000000</td>\n",
       "      <td>0.0</td>\n",
       "    </tr>\n",
       "    <tr>\n",
       "      <th>max</th>\n",
       "      <td>1.546253e+09</td>\n",
       "      <td>497.000000</td>\n",
       "      <td>382.000000</td>\n",
       "      <td>516.000000</td>\n",
       "      <td>63.000000</td>\n",
       "      <td>648.000000</td>\n",
       "      <td>27.000000</td>\n",
       "      <td>34.000000</td>\n",
       "      <td>86.000000</td>\n",
       "      <td>124.000000</td>\n",
       "      <td>42.000000</td>\n",
       "      <td>0.0</td>\n",
       "    </tr>\n",
       "  </tbody>\n",
       "</table>\n",
       "</div>"
      ],
      "text/plain": [
       "       post_published_unix  likes_count_fb  comments_count_fb  \\\n",
       "count         3.680000e+02      368.000000         368.000000   \n",
       "mean          1.515311e+09       52.600543          16.230978   \n",
       "std           1.810451e+07       73.394798          47.325511   \n",
       "min           1.483358e+09        1.000000           0.000000   \n",
       "25%           1.501363e+09       13.000000           0.000000   \n",
       "50%           1.514719e+09       27.500000           2.000000   \n",
       "75%           1.529370e+09       60.250000           9.000000   \n",
       "max           1.546253e+09      497.000000         382.000000   \n",
       "\n",
       "       reactions_count_fb  shares_count_fb  engagement_fb    rea_LOVE  \\\n",
       "count          368.000000       368.000000     368.000000  368.000000   \n",
       "mean            57.728261         2.970109      76.929348    2.619565   \n",
       "std             80.432293         5.277754     113.340462    4.628057   \n",
       "min              1.000000         0.000000       2.000000    0.000000   \n",
       "25%             13.750000         0.000000      17.000000    0.000000   \n",
       "50%             29.500000         1.000000      37.500000    1.000000   \n",
       "75%             63.500000         3.000000      77.750000    3.000000   \n",
       "max            516.000000        63.000000     648.000000   27.000000   \n",
       "\n",
       "         rea_HAHA     rea_WOW     rea_SAD   rea_ANGRY  rea_THANKFUL  \n",
       "count  368.000000  368.000000  368.000000  368.000000         368.0  \n",
       "mean     0.402174    0.991848    0.937500    0.176630           0.0  \n",
       "std      2.583999    6.013376    7.276846    2.208183           0.0  \n",
       "min      0.000000    0.000000    0.000000    0.000000           0.0  \n",
       "25%      0.000000    0.000000    0.000000    0.000000           0.0  \n",
       "50%      0.000000    0.000000    0.000000    0.000000           0.0  \n",
       "75%      0.000000    0.000000    0.000000    0.000000           0.0  \n",
       "max     34.000000   86.000000  124.000000   42.000000           0.0  "
      ]
     },
     "execution_count": 3,
     "metadata": {},
     "output_type": "execute_result"
    }
   ],
   "source": [
    "#A quick look at one of the data frames\n",
    "RUN_posts.describe()"
   ]
  },
  {
   "cell_type": "markdown",
   "metadata": {},
   "source": [
    "As a first exploration of the data, we can look at how active each university has been on Facebook over the last two years in terms of total posts:"
   ]
  },
  {
   "cell_type": "code",
   "execution_count": 4,
   "metadata": {},
   "outputs": [
    {
     "data": {
      "text/html": [
       "<div>\n",
       "<style scoped>\n",
       "    .dataframe tbody tr th:only-of-type {\n",
       "        vertical-align: middle;\n",
       "    }\n",
       "\n",
       "    .dataframe tbody tr th {\n",
       "        vertical-align: top;\n",
       "    }\n",
       "\n",
       "    .dataframe thead th {\n",
       "        text-align: right;\n",
       "    }\n",
       "</style>\n",
       "<table border=\"1\" class=\"dataframe\">\n",
       "  <thead>\n",
       "    <tr style=\"text-align: right;\">\n",
       "      <th></th>\n",
       "      <th>University</th>\n",
       "      <th>FB page ID</th>\n",
       "      <th>FB Likes/Followers</th>\n",
       "      <th>Enrolled students</th>\n",
       "      <th>New BA Avg</th>\n",
       "      <th>Total posts 17'-19'</th>\n",
       "      <th>Avg comments / post</th>\n",
       "      <th>THE Ranking</th>\n",
       "    </tr>\n",
       "  </thead>\n",
       "  <tbody>\n",
       "    <tr>\n",
       "      <th>3</th>\n",
       "      <td>Universiteit Twente</td>\n",
       "      <td>153677961330272</td>\n",
       "      <td>37629</td>\n",
       "      <td>9921</td>\n",
       "      <td>1854</td>\n",
       "      <td>883</td>\n",
       "      <td>1.86</td>\n",
       "      <td>184</td>\n",
       "    </tr>\n",
       "    <tr>\n",
       "      <th>1</th>\n",
       "      <td>Universiteit Utrecht</td>\n",
       "      <td>315278225910</td>\n",
       "      <td>70353</td>\n",
       "      <td>30945</td>\n",
       "      <td>5125</td>\n",
       "      <td>656</td>\n",
       "      <td>19.54</td>\n",
       "      <td>74</td>\n",
       "    </tr>\n",
       "    <tr>\n",
       "      <th>0</th>\n",
       "      <td>Universiteit Van Amsterdam</td>\n",
       "      <td>113928981951563</td>\n",
       "      <td>122645</td>\n",
       "      <td>32588</td>\n",
       "      <td>5193</td>\n",
       "      <td>564</td>\n",
       "      <td>7.87</td>\n",
       "      <td>62</td>\n",
       "    </tr>\n",
       "    <tr>\n",
       "      <th>2</th>\n",
       "      <td>Radboud Universiteit Nijmegen</td>\n",
       "      <td>212779830334</td>\n",
       "      <td>37360</td>\n",
       "      <td>20442</td>\n",
       "      <td>3584</td>\n",
       "      <td>368</td>\n",
       "      <td>16.23</td>\n",
       "      <td>123</td>\n",
       "    </tr>\n",
       "  </tbody>\n",
       "</table>\n",
       "</div>"
      ],
      "text/plain": [
       "                      University       FB page ID  FB Likes/Followers  \\\n",
       "3            Universiteit Twente  153677961330272               37629   \n",
       "1           Universiteit Utrecht     315278225910               70353   \n",
       "0     Universiteit Van Amsterdam  113928981951563              122645   \n",
       "2  Radboud Universiteit Nijmegen     212779830334               37360   \n",
       "\n",
       "   Enrolled students  New BA Avg  Total posts 17'-19'  Avg comments / post  \\\n",
       "3               9921        1854                  883                 1.86   \n",
       "1              30945        5125                  656                19.54   \n",
       "0              32588        5193                  564                 7.87   \n",
       "2              20442        3584                  368                16.23   \n",
       "\n",
       "   THE Ranking  \n",
       "3          184  \n",
       "1           74  \n",
       "0           62  \n",
       "2          123  "
      ]
     },
     "execution_count": 4,
     "metadata": {},
     "output_type": "execute_result"
    }
   ],
   "source": [
    "general_df.sort_values(by=\"Total posts 17'-19'\", ascending=False)"
   ]
  },
  {
   "cell_type": "markdown",
   "metadata": {},
   "source": [
    "Interestingly the smallest university in terms of student size (Twente university) is the most active on Facebook. However, we also see that it has (by far) the lowest ratio of comments per post. This would indeed mean that the more posts, the less comments they get. On the other hand, Utrecht University has also been rather active, with 656 posts, and yet it has the highest ratio of comments per post. This kind of goes against the assumption we made earlier (and which has been covered in the literature review, too). \n",
    "\n",
    "It might also be interesting to see which types of posts are most used per university. Previous research, as mentioned, indicated that posts with a photo are the best way to increase interactivity on Facebook:"
   ]
  },
  {
   "cell_type": "code",
   "execution_count": 5,
   "metadata": {},
   "outputs": [
    {
     "data": {
      "text/plain": [
       "photo    237\n",
       "link     222\n",
       "video    105\n",
       "Name: type, dtype: int64"
      ]
     },
     "execution_count": 5,
     "metadata": {},
     "output_type": "execute_result"
    }
   ],
   "source": [
    "UvA_posts['type'].value_counts()"
   ]
  },
  {
   "cell_type": "markdown",
   "metadata": {},
   "source": [
    "Below is an attempt at creating a new dataframe from these numbers returned by value_counts() of the content type for each university. It is rather inefficient, and there are probably much better and smoother ways to make this happen. However, my Python experience is not adequate enough to do this in a better way at the moment."
   ]
  },
  {
   "cell_type": "code",
   "execution_count": 6,
   "metadata": {},
   "outputs": [
    {
     "name": "stderr",
     "output_type": "stream",
     "text": [
      "/anaconda3/lib/python3.7/site-packages/pandas/core/frame.py:6211: FutureWarning: Sorting because non-concatenation axis is not aligned. A future version\n",
      "of pandas will change to not sort by default.\n",
      "\n",
      "To accept the future behavior, pass 'sort=False'.\n",
      "\n",
      "To retain the current behavior and silence the warning, pass 'sort=True'.\n",
      "\n",
      "  sort=sort)\n"
     ]
    },
    {
     "data": {
      "text/html": [
       "<div>\n",
       "<style scoped>\n",
       "    .dataframe tbody tr th:only-of-type {\n",
       "        vertical-align: middle;\n",
       "    }\n",
       "\n",
       "    .dataframe tbody tr th {\n",
       "        vertical-align: top;\n",
       "    }\n",
       "\n",
       "    .dataframe thead th {\n",
       "        text-align: right;\n",
       "    }\n",
       "</style>\n",
       "<table border=\"1\" class=\"dataframe\">\n",
       "  <thead>\n",
       "    <tr style=\"text-align: right;\">\n",
       "      <th></th>\n",
       "      <th>link</th>\n",
       "      <th>photo</th>\n",
       "      <th>status</th>\n",
       "      <th>video</th>\n",
       "      <th>total</th>\n",
       "    </tr>\n",
       "  </thead>\n",
       "  <tbody>\n",
       "    <tr>\n",
       "      <th>UvA</th>\n",
       "      <td>222</td>\n",
       "      <td>237</td>\n",
       "      <td>0.0</td>\n",
       "      <td>105</td>\n",
       "      <td>564.0</td>\n",
       "    </tr>\n",
       "    <tr>\n",
       "      <th>UU</th>\n",
       "      <td>186</td>\n",
       "      <td>324</td>\n",
       "      <td>25.0</td>\n",
       "      <td>121</td>\n",
       "      <td>656.0</td>\n",
       "    </tr>\n",
       "    <tr>\n",
       "      <th>RUN</th>\n",
       "      <td>45</td>\n",
       "      <td>238</td>\n",
       "      <td>4.0</td>\n",
       "      <td>81</td>\n",
       "      <td>368.0</td>\n",
       "    </tr>\n",
       "    <tr>\n",
       "      <th>UT</th>\n",
       "      <td>367</td>\n",
       "      <td>288</td>\n",
       "      <td>5.0</td>\n",
       "      <td>223</td>\n",
       "      <td>883.0</td>\n",
       "    </tr>\n",
       "  </tbody>\n",
       "</table>\n",
       "</div>"
      ],
      "text/plain": [
       "     link  photo  status  video  total\n",
       "UvA   222    237     0.0    105  564.0\n",
       "UU    186    324    25.0    121  656.0\n",
       "RUN    45    238     4.0     81  368.0\n",
       "UT    367    288     5.0    223  883.0"
      ]
     },
     "execution_count": 6,
     "metadata": {},
     "output_type": "execute_result"
    }
   ],
   "source": [
    "type_df = pd.DataFrame(UvA_posts['type'].value_counts())\n",
    "type_df = type_df.T\n",
    "type_df = type_df.append((pd.DataFrame(UU_posts['type'].value_counts()).T))\n",
    "type_df = type_df.append((pd.DataFrame(RUN_posts['type'].value_counts()).T))\n",
    "type_df = type_df.append((pd.DataFrame(UT_posts['type'].value_counts()).T))\n",
    "\n",
    "\n",
    "array = type_df.index.values\n",
    "array[0] = 'UvA'\n",
    "array[1] = 'UU'\n",
    "array[2] = 'RUN'\n",
    "array[3] = 'UT'\n",
    "\n",
    "type_df = type_df.fillna(0)\n",
    "\n",
    "x = [ row.link + row.photo + row.status + row.video for index, row in type_df.iterrows() ]\n",
    "\n",
    "type_df['total'] = x\n",
    "\n",
    "type_df"
   ]
  },
  {
   "cell_type": "markdown",
   "metadata": {},
   "source": [
    "So at least we have our dataframe for the content types at the moment. We can now inspect some of the features and add more variables as we wish."
   ]
  },
  {
   "cell_type": "code",
   "execution_count": 7,
   "metadata": {},
   "outputs": [
    {
     "data": {
      "text/html": [
       "<div>\n",
       "<style scoped>\n",
       "    .dataframe tbody tr th:only-of-type {\n",
       "        vertical-align: middle;\n",
       "    }\n",
       "\n",
       "    .dataframe tbody tr th {\n",
       "        vertical-align: top;\n",
       "    }\n",
       "\n",
       "    .dataframe thead th {\n",
       "        text-align: right;\n",
       "    }\n",
       "</style>\n",
       "<table border=\"1\" class=\"dataframe\">\n",
       "  <thead>\n",
       "    <tr style=\"text-align: right;\">\n",
       "      <th></th>\n",
       "      <th>link</th>\n",
       "      <th>photo</th>\n",
       "      <th>status</th>\n",
       "      <th>video</th>\n",
       "      <th>total</th>\n",
       "    </tr>\n",
       "  </thead>\n",
       "  <tbody>\n",
       "    <tr>\n",
       "      <th>UU</th>\n",
       "      <td>186</td>\n",
       "      <td>324</td>\n",
       "      <td>25.0</td>\n",
       "      <td>121</td>\n",
       "      <td>656.0</td>\n",
       "    </tr>\n",
       "    <tr>\n",
       "      <th>UT</th>\n",
       "      <td>367</td>\n",
       "      <td>288</td>\n",
       "      <td>5.0</td>\n",
       "      <td>223</td>\n",
       "      <td>883.0</td>\n",
       "    </tr>\n",
       "    <tr>\n",
       "      <th>RUN</th>\n",
       "      <td>45</td>\n",
       "      <td>238</td>\n",
       "      <td>4.0</td>\n",
       "      <td>81</td>\n",
       "      <td>368.0</td>\n",
       "    </tr>\n",
       "    <tr>\n",
       "      <th>UvA</th>\n",
       "      <td>222</td>\n",
       "      <td>237</td>\n",
       "      <td>0.0</td>\n",
       "      <td>105</td>\n",
       "      <td>564.0</td>\n",
       "    </tr>\n",
       "  </tbody>\n",
       "</table>\n",
       "</div>"
      ],
      "text/plain": [
       "     link  photo  status  video  total\n",
       "UU    186    324    25.0    121  656.0\n",
       "UT    367    288     5.0    223  883.0\n",
       "RUN    45    238     4.0     81  368.0\n",
       "UvA   222    237     0.0    105  564.0"
      ]
     },
     "execution_count": 7,
     "metadata": {},
     "output_type": "execute_result"
    }
   ],
   "source": [
    "type_df.sort_values(by='photo', ascending=False)"
   ]
  },
  {
   "cell_type": "markdown",
   "metadata": {},
   "source": [
    "We can see that the UU, which also has the most user-engagement with 19.54 comments per post on average, has posted the most photos. In this case, it indeed seems to be the case that photos induce the most engagement or interactivity. Furthermore, we can see that the UT (which has the lowest user engagement) has posted the most links.\n",
    "\n",
    "But what if we sort the data by type in terms of the amount of reactions (on average)? Let's look at the institutions one by one. As this project unfolds, I realise it might be better to use the engagement_facebook variable instead of just the reactions, as it contains a more general number which indicates the overal engagement with the post by users (it seems to be the sum of shares, reactions and comments):"
   ]
  },
  {
   "cell_type": "code",
   "execution_count": 8,
   "metadata": {},
   "outputs": [
    {
     "data": {
      "text/plain": [
       "type\n",
       "link     134.558559\n",
       "photo    105.316456\n",
       "video     90.047619\n",
       "Name: engagement_fb, dtype: float64"
      ]
     },
     "execution_count": 8,
     "metadata": {},
     "output_type": "execute_result"
    }
   ],
   "source": [
    "uva = (UvA_posts.groupby('type')['engagement_fb'].mean()).sort_values(ascending=False)\n",
    "\n",
    "uva"
   ]
  },
  {
   "cell_type": "code",
   "execution_count": 9,
   "metadata": {},
   "outputs": [
    {
     "data": {
      "text/plain": [
       "type\n",
       "photo     242.969136\n",
       "video     207.611570\n",
       "status    185.360000\n",
       "link      155.220430\n",
       "Name: engagement_fb, dtype: float64"
      ]
     },
     "execution_count": 9,
     "metadata": {},
     "output_type": "execute_result"
    }
   ],
   "source": [
    "uu = (UU_posts.groupby('type')['engagement_fb'].mean()).sort_values(ascending=False)\n",
    "\n",
    "uu"
   ]
  },
  {
   "cell_type": "code",
   "execution_count": 10,
   "metadata": {},
   "outputs": [
    {
     "data": {
      "text/plain": [
       "type\n",
       "photo     87.323529\n",
       "status    66.000000\n",
       "link      59.333333\n",
       "video     56.703704\n",
       "Name: engagement_fb, dtype: float64"
      ]
     },
     "execution_count": 10,
     "metadata": {},
     "output_type": "execute_result"
    }
   ],
   "source": [
    "run = (RUN_posts.groupby('type')['engagement_fb'].mean()).sort_values(ascending=False)\n",
    "\n",
    "run"
   ]
  },
  {
   "cell_type": "code",
   "execution_count": 11,
   "metadata": {},
   "outputs": [
    {
     "data": {
      "text/plain": [
       "type\n",
       "status    47.800000\n",
       "photo     32.295139\n",
       "video     29.228700\n",
       "link      24.286104\n",
       "Name: engagement_fb, dtype: float64"
      ]
     },
     "execution_count": 11,
     "metadata": {},
     "output_type": "execute_result"
    }
   ],
   "source": [
    "ut = (UT_posts.groupby('type')['engagement_fb'].mean()).sort_values(ascending=False)\n",
    "\n",
    "ut"
   ]
  },
  {
   "cell_type": "code",
   "execution_count": 12,
   "metadata": {},
   "outputs": [
    {
     "data": {
      "text/html": [
       "<div>\n",
       "<style scoped>\n",
       "    .dataframe tbody tr th:only-of-type {\n",
       "        vertical-align: middle;\n",
       "    }\n",
       "\n",
       "    .dataframe tbody tr th {\n",
       "        vertical-align: top;\n",
       "    }\n",
       "\n",
       "    .dataframe thead th {\n",
       "        text-align: right;\n",
       "    }\n",
       "</style>\n",
       "<table border=\"1\" class=\"dataframe\">\n",
       "  <thead>\n",
       "    <tr style=\"text-align: right;\">\n",
       "      <th></th>\n",
       "      <th>University</th>\n",
       "      <th>Engagement ratio</th>\n",
       "    </tr>\n",
       "  </thead>\n",
       "  <tbody>\n",
       "    <tr>\n",
       "      <th>0</th>\n",
       "      <td>Universiteit Van Amsterdam</td>\n",
       "      <td>113.984043</td>\n",
       "    </tr>\n",
       "    <tr>\n",
       "      <th>1</th>\n",
       "      <td>Universiteit Utrecht</td>\n",
       "      <td>209.371951</td>\n",
       "    </tr>\n",
       "    <tr>\n",
       "      <th>2</th>\n",
       "      <td>Radboud Universiteit Nijmegen</td>\n",
       "      <td>76.929348</td>\n",
       "    </tr>\n",
       "    <tr>\n",
       "      <th>3</th>\n",
       "      <td>Universiteit Twente</td>\n",
       "      <td>28.279728</td>\n",
       "    </tr>\n",
       "  </tbody>\n",
       "</table>\n",
       "</div>"
      ],
      "text/plain": [
       "                      University  Engagement ratio\n",
       "0     Universiteit Van Amsterdam        113.984043\n",
       "1           Universiteit Utrecht        209.371951\n",
       "2  Radboud Universiteit Nijmegen         76.929348\n",
       "3            Universiteit Twente         28.279728"
      ]
     },
     "execution_count": 12,
     "metadata": {},
     "output_type": "execute_result"
    }
   ],
   "source": [
    "df_HEI = pd.DataFrame({'University': ['Universiteit Van Amsterdam', 'Universiteit Utrecht', 'Radboud Universiteit Nijmegen', 'Universiteit Twente']})\n",
    "\n",
    "\n",
    "df_HEI.loc[[0],'Engagement ratio'] = (UvA_posts['engagement_fb'].sum()) / len(UvA_posts)\n",
    "\n",
    "df_HEI.loc[[1],'Engagement ratio'] = (UU_posts['engagement_fb'].sum()) / len(UU_posts)\n",
    "\n",
    "df_HEI.loc[[2],'Engagement ratio'] = (RUN_posts['engagement_fb'].sum()) / len(RUN_posts)\n",
    "\n",
    "df_HEI.loc[[3],'Engagement ratio'] = (UT_posts['engagement_fb'].sum()) / len(UT_posts)\n",
    "\n",
    "\n",
    "df_HEI"
   ]
  },
  {
   "cell_type": "code",
   "execution_count": 13,
   "metadata": {},
   "outputs": [
    {
     "data": {
      "text/html": [
       "<div>\n",
       "<style scoped>\n",
       "    .dataframe tbody tr th:only-of-type {\n",
       "        vertical-align: middle;\n",
       "    }\n",
       "\n",
       "    .dataframe tbody tr th {\n",
       "        vertical-align: top;\n",
       "    }\n",
       "\n",
       "    .dataframe thead th {\n",
       "        text-align: right;\n",
       "    }\n",
       "</style>\n",
       "<table border=\"1\" class=\"dataframe\">\n",
       "  <thead>\n",
       "    <tr style=\"text-align: right;\">\n",
       "      <th></th>\n",
       "      <th>University</th>\n",
       "      <th>FB page ID</th>\n",
       "      <th>FB Likes/Followers</th>\n",
       "      <th>Enrolled students</th>\n",
       "      <th>New BA Avg</th>\n",
       "      <th>Total posts 17'-19'</th>\n",
       "      <th>Avg comments / post</th>\n",
       "      <th>THE Ranking</th>\n",
       "      <th>Engagement ratio</th>\n",
       "    </tr>\n",
       "  </thead>\n",
       "  <tbody>\n",
       "    <tr>\n",
       "      <th>0</th>\n",
       "      <td>Universiteit Van Amsterdam</td>\n",
       "      <td>113928981951563</td>\n",
       "      <td>122645</td>\n",
       "      <td>32588</td>\n",
       "      <td>5193</td>\n",
       "      <td>564</td>\n",
       "      <td>7.87</td>\n",
       "      <td>62</td>\n",
       "      <td>113.984043</td>\n",
       "    </tr>\n",
       "    <tr>\n",
       "      <th>1</th>\n",
       "      <td>Universiteit Utrecht</td>\n",
       "      <td>315278225910</td>\n",
       "      <td>70353</td>\n",
       "      <td>30945</td>\n",
       "      <td>5125</td>\n",
       "      <td>656</td>\n",
       "      <td>19.54</td>\n",
       "      <td>74</td>\n",
       "      <td>209.371951</td>\n",
       "    </tr>\n",
       "    <tr>\n",
       "      <th>2</th>\n",
       "      <td>Radboud Universiteit Nijmegen</td>\n",
       "      <td>212779830334</td>\n",
       "      <td>37360</td>\n",
       "      <td>20442</td>\n",
       "      <td>3584</td>\n",
       "      <td>368</td>\n",
       "      <td>16.23</td>\n",
       "      <td>123</td>\n",
       "      <td>76.929348</td>\n",
       "    </tr>\n",
       "    <tr>\n",
       "      <th>3</th>\n",
       "      <td>Universiteit Twente</td>\n",
       "      <td>153677961330272</td>\n",
       "      <td>37629</td>\n",
       "      <td>9921</td>\n",
       "      <td>1854</td>\n",
       "      <td>883</td>\n",
       "      <td>1.86</td>\n",
       "      <td>184</td>\n",
       "      <td>28.279728</td>\n",
       "    </tr>\n",
       "  </tbody>\n",
       "</table>\n",
       "</div>"
      ],
      "text/plain": [
       "                      University       FB page ID  FB Likes/Followers  \\\n",
       "0     Universiteit Van Amsterdam  113928981951563              122645   \n",
       "1           Universiteit Utrecht     315278225910               70353   \n",
       "2  Radboud Universiteit Nijmegen     212779830334               37360   \n",
       "3            Universiteit Twente  153677961330272               37629   \n",
       "\n",
       "   Enrolled students  New BA Avg  Total posts 17'-19'  Avg comments / post  \\\n",
       "0              32588        5193                  564                 7.87   \n",
       "1              30945        5125                  656                19.54   \n",
       "2              20442        3584                  368                16.23   \n",
       "3               9921        1854                  883                 1.86   \n",
       "\n",
       "   THE Ranking  Engagement ratio  \n",
       "0           62        113.984043  \n",
       "1           74        209.371951  \n",
       "2          123         76.929348  \n",
       "3          184         28.279728  "
      ]
     },
     "execution_count": 13,
     "metadata": {},
     "output_type": "execute_result"
    }
   ],
   "source": [
    "#Now we can add this to the \"general\" dataframe\n",
    "complete_df = general_df.merge(df_HEI, on='University')\n",
    "complete_df"
   ]
  },
  {
   "cell_type": "markdown",
   "metadata": {},
   "source": [
    "It is interesting to see that the Radboud has a relatively low engagement ratio, but a high average of comments per post; engagement mostly occurs via commenting, it seems. While the UvA is the largest page by far, but having a low comments/posts ratio, it seems that through the more \"passive\" means of engagement (single-click engagement such as liking, sharing), the UvA still comes up second in terms of engagement ratio. This would indicate that the larger a page is, the more the engagement activity is gravitating towards passive means of interaction. However, the figures for the UU do not corroborate this.\n",
    "\n",
    "Now that we have some general idea of which HEI posts which type the most, and of their \"fanbase\" engagement, we can look at some emotions in the reactions. I will focus on love and angry reactions while these are the most distinct on the emotional \"spectrum\":"
   ]
  },
  {
   "cell_type": "code",
   "execution_count": 14,
   "metadata": {},
   "outputs": [],
   "source": [
    "UvA_posts['love ratio'] = (UvA_posts['rea_LOVE'] / UvA_posts['reactions_count_fb'])*100\n",
    "UU_posts['love ratio'] = (UU_posts['rea_LOVE'] / UU_posts['reactions_count_fb'])*100\n",
    "RUN_posts['love ratio'] = (RUN_posts['rea_LOVE'] / RUN_posts['reactions_count_fb'])*100\n",
    "UT_posts['love ratio'] = (UT_posts['rea_LOVE'] / UT_posts['reactions_count_fb'])*100\n",
    "\n",
    "UvA_posts['angry ratio'] = (UvA_posts['rea_ANGRY'] / UvA_posts['reactions_count_fb'])*100\n",
    "UU_posts['angry ratio'] = (UU_posts['rea_ANGRY'] / UU_posts['reactions_count_fb'])*100\n",
    "RUN_posts['angry ratio'] = (RUN_posts['rea_ANGRY'] / RUN_posts['reactions_count_fb'])*100\n",
    "UT_posts['angry ratio'] = (UT_posts['rea_ANGRY'] / UT_posts['reactions_count_fb'])*100"
   ]
  },
  {
   "cell_type": "markdown",
   "metadata": {},
   "source": [
    "Now let's add them to our dataframe:"
   ]
  },
  {
   "cell_type": "code",
   "execution_count": 15,
   "metadata": {},
   "outputs": [
    {
     "data": {
      "text/html": [
       "<div>\n",
       "<style scoped>\n",
       "    .dataframe tbody tr th:only-of-type {\n",
       "        vertical-align: middle;\n",
       "    }\n",
       "\n",
       "    .dataframe tbody tr th {\n",
       "        vertical-align: top;\n",
       "    }\n",
       "\n",
       "    .dataframe thead th {\n",
       "        text-align: right;\n",
       "    }\n",
       "</style>\n",
       "<table border=\"1\" class=\"dataframe\">\n",
       "  <thead>\n",
       "    <tr style=\"text-align: right;\">\n",
       "      <th></th>\n",
       "      <th>University</th>\n",
       "      <th>FB page ID</th>\n",
       "      <th>FB Likes/Followers</th>\n",
       "      <th>Enrolled students</th>\n",
       "      <th>New BA Avg</th>\n",
       "      <th>Total posts 17'-19'</th>\n",
       "      <th>Avg comments / post</th>\n",
       "      <th>THE Ranking</th>\n",
       "      <th>Engagement ratio</th>\n",
       "      <th>love ratio</th>\n",
       "      <th>angry ratio</th>\n",
       "    </tr>\n",
       "  </thead>\n",
       "  <tbody>\n",
       "    <tr>\n",
       "      <th>0</th>\n",
       "      <td>Universiteit Van Amsterdam</td>\n",
       "      <td>113928981951563</td>\n",
       "      <td>122645</td>\n",
       "      <td>32588</td>\n",
       "      <td>5193</td>\n",
       "      <td>564</td>\n",
       "      <td>7.87</td>\n",
       "      <td>62</td>\n",
       "      <td>113.984043</td>\n",
       "      <td>4.747183</td>\n",
       "      <td>0.062403</td>\n",
       "    </tr>\n",
       "    <tr>\n",
       "      <th>1</th>\n",
       "      <td>Universiteit Utrecht</td>\n",
       "      <td>315278225910</td>\n",
       "      <td>70353</td>\n",
       "      <td>30945</td>\n",
       "      <td>5125</td>\n",
       "      <td>656</td>\n",
       "      <td>19.54</td>\n",
       "      <td>74</td>\n",
       "      <td>209.371951</td>\n",
       "      <td>4.733819</td>\n",
       "      <td>0.085763</td>\n",
       "    </tr>\n",
       "    <tr>\n",
       "      <th>2</th>\n",
       "      <td>Radboud Universiteit Nijmegen</td>\n",
       "      <td>212779830334</td>\n",
       "      <td>37360</td>\n",
       "      <td>20442</td>\n",
       "      <td>3584</td>\n",
       "      <td>368</td>\n",
       "      <td>16.23</td>\n",
       "      <td>123</td>\n",
       "      <td>76.929348</td>\n",
       "      <td>4.276520</td>\n",
       "      <td>0.247391</td>\n",
       "    </tr>\n",
       "    <tr>\n",
       "      <th>3</th>\n",
       "      <td>Universiteit Twente</td>\n",
       "      <td>153677961330272</td>\n",
       "      <td>37629</td>\n",
       "      <td>9921</td>\n",
       "      <td>1854</td>\n",
       "      <td>883</td>\n",
       "      <td>1.86</td>\n",
       "      <td>184</td>\n",
       "      <td>28.279728</td>\n",
       "      <td>2.865772</td>\n",
       "      <td>0.012910</td>\n",
       "    </tr>\n",
       "  </tbody>\n",
       "</table>\n",
       "</div>"
      ],
      "text/plain": [
       "                      University       FB page ID  FB Likes/Followers  \\\n",
       "0     Universiteit Van Amsterdam  113928981951563              122645   \n",
       "1           Universiteit Utrecht     315278225910               70353   \n",
       "2  Radboud Universiteit Nijmegen     212779830334               37360   \n",
       "3            Universiteit Twente  153677961330272               37629   \n",
       "\n",
       "   Enrolled students  New BA Avg  Total posts 17'-19'  Avg comments / post  \\\n",
       "0              32588        5193                  564                 7.87   \n",
       "1              30945        5125                  656                19.54   \n",
       "2              20442        3584                  368                16.23   \n",
       "3               9921        1854                  883                 1.86   \n",
       "\n",
       "   THE Ranking  Engagement ratio  love ratio  angry ratio  \n",
       "0           62        113.984043    4.747183     0.062403  \n",
       "1           74        209.371951    4.733819     0.085763  \n",
       "2          123         76.929348    4.276520     0.247391  \n",
       "3          184         28.279728    2.865772     0.012910  "
      ]
     },
     "execution_count": 15,
     "metadata": {},
     "output_type": "execute_result"
    }
   ],
   "source": [
    "complete_df.loc[[0], 'love ratio'] = UvA_posts['love ratio'].mean()\n",
    "complete_df.loc[[1], 'love ratio'] = UU_posts['love ratio'].mean()\n",
    "complete_df.loc[[2], 'love ratio'] = RUN_posts['love ratio'].mean()\n",
    "complete_df.loc[[3], 'love ratio'] = UT_posts['love ratio'].mean()\n",
    "\n",
    "complete_df.loc[[0], 'angry ratio'] = UvA_posts['angry ratio'].mean()\n",
    "complete_df.loc[[1], 'angry ratio'] = UU_posts['angry ratio'].mean()\n",
    "complete_df.loc[[2], 'angry ratio'] = RUN_posts['angry ratio'].mean()\n",
    "complete_df.loc[[3], 'angry ratio'] = UT_posts['angry ratio'].mean()\n",
    "\n",
    "complete_df"
   ]
  },
  {
   "cell_type": "markdown",
   "metadata": {},
   "source": [
    "We could fit a simple linear model to this (very small, in reality, too small) dataframe and see whether certain variables are associated, or indicative of, one another. Let's see, for instance, whether the engagement ratio on Facebook is predictive of the amount of new BA students who enroll in the university, while engaging with potential students seems to be a logical way of recruiting them to apply:"
   ]
  },
  {
   "cell_type": "code",
   "execution_count": 16,
   "metadata": {},
   "outputs": [
    {
     "name": "stderr",
     "output_type": "stream",
     "text": [
      "/anaconda3/lib/python3.7/site-packages/statsmodels/stats/stattools.py:72: ValueWarning: omni_normtest is not valid with less than 8 observations; 4 samples were given.\n",
      "  \"samples were given.\" % int(n), ValueWarning)\n"
     ]
    },
    {
     "data": {
      "text/html": [
       "<table class=\"simpletable\">\n",
       "<caption>OLS Regression Results</caption>\n",
       "<tr>\n",
       "  <th>Dep. Variable:</th>       <td>New BA Avg</td>    <th>  R-squared:         </th> <td>   0.899</td>\n",
       "</tr>\n",
       "<tr>\n",
       "  <th>Model:</th>                   <td>OLS</td>       <th>  Adj. R-squared:    </th> <td>   0.866</td>\n",
       "</tr>\n",
       "<tr>\n",
       "  <th>Method:</th>             <td>Least Squares</td>  <th>  F-statistic:       </th> <td>   26.78</td>\n",
       "</tr>\n",
       "<tr>\n",
       "  <th>Date:</th>             <td>Thu, 14 Feb 2019</td> <th>  Prob (F-statistic):</th>  <td>0.0140</td> \n",
       "</tr>\n",
       "<tr>\n",
       "  <th>Time:</th>                 <td>14:33:43</td>     <th>  Log-Likelihood:    </th> <td> -34.427</td>\n",
       "</tr>\n",
       "<tr>\n",
       "  <th>No. Observations:</th>      <td>     4</td>      <th>  AIC:               </th> <td>   70.85</td>\n",
       "</tr>\n",
       "<tr>\n",
       "  <th>Df Residuals:</th>          <td>     3</td>      <th>  BIC:               </th> <td>   70.24</td>\n",
       "</tr>\n",
       "<tr>\n",
       "  <th>Df Model:</th>              <td>     1</td>      <th>                     </th>     <td> </td>   \n",
       "</tr>\n",
       "<tr>\n",
       "  <th>Covariance Type:</th>      <td>nonrobust</td>    <th>                     </th>     <td> </td>   \n",
       "</tr>\n",
       "</table>\n",
       "<table class=\"simpletable\">\n",
       "<tr>\n",
       "          <td></td>            <th>coef</th>     <th>std err</th>      <th>t</th>      <th>P>|t|</th>  <th>[0.025</th>    <th>0.975]</th>  \n",
       "</tr>\n",
       "<tr>\n",
       "  <th>Engagement ratio</th> <td>   31.3642</td> <td>    6.061</td> <td>    5.175</td> <td> 0.014</td> <td>   12.075</td> <td>   50.653</td>\n",
       "</tr>\n",
       "</table>\n",
       "<table class=\"simpletable\">\n",
       "<tr>\n",
       "  <th>Omnibus:</th>       <td>   nan</td> <th>  Durbin-Watson:     </th> <td>   2.318</td>\n",
       "</tr>\n",
       "<tr>\n",
       "  <th>Prob(Omnibus):</th> <td>   nan</td> <th>  Jarque-Bera (JB):  </th> <td>   0.786</td>\n",
       "</tr>\n",
       "<tr>\n",
       "  <th>Skew:</th>          <td>-1.017</td> <th>  Prob(JB):          </th> <td>   0.675</td>\n",
       "</tr>\n",
       "<tr>\n",
       "  <th>Kurtosis:</th>      <td> 2.241</td> <th>  Cond. No.          </th> <td>    1.00</td>\n",
       "</tr>\n",
       "</table><br/><br/>Warnings:<br/>[1] Standard Errors assume that the covariance matrix of the errors is correctly specified."
      ],
      "text/plain": [
       "<class 'statsmodels.iolib.summary.Summary'>\n",
       "\"\"\"\n",
       "                            OLS Regression Results                            \n",
       "==============================================================================\n",
       "Dep. Variable:             New BA Avg   R-squared:                       0.899\n",
       "Model:                            OLS   Adj. R-squared:                  0.866\n",
       "Method:                 Least Squares   F-statistic:                     26.78\n",
       "Date:                Thu, 14 Feb 2019   Prob (F-statistic):             0.0140\n",
       "Time:                        14:33:43   Log-Likelihood:                -34.427\n",
       "No. Observations:                   4   AIC:                             70.85\n",
       "Df Residuals:                       3   BIC:                             70.24\n",
       "Df Model:                           1                                         \n",
       "Covariance Type:            nonrobust                                         \n",
       "====================================================================================\n",
       "                       coef    std err          t      P>|t|      [0.025      0.975]\n",
       "------------------------------------------------------------------------------------\n",
       "Engagement ratio    31.3642      6.061      5.175      0.014      12.075      50.653\n",
       "==============================================================================\n",
       "Omnibus:                          nan   Durbin-Watson:                   2.318\n",
       "Prob(Omnibus):                    nan   Jarque-Bera (JB):                0.786\n",
       "Skew:                          -1.017   Prob(JB):                        0.675\n",
       "Kurtosis:                       2.241   Cond. No.                         1.00\n",
       "==============================================================================\n",
       "\n",
       "Warnings:\n",
       "[1] Standard Errors assume that the covariance matrix of the errors is correctly specified.\n",
       "\"\"\""
      ]
     },
     "execution_count": 16,
     "metadata": {},
     "output_type": "execute_result"
    }
   ],
   "source": [
    "import numpy as np\n",
    "import statsmodels.api as sm\n",
    "\n",
    "\n",
    "indep_var = complete_df['Engagement ratio']\n",
    "dep_var = complete_df['New BA Avg'] \n",
    "\n",
    "lin_mod = sm.OLS(dep_var, indep_var).fit()\n",
    "predictions = lin_mod.predict(indep_var)\n",
    "\n",
    "lin_mod.summary()"
   ]
  },
  {
   "cell_type": "markdown",
   "metadata": {},
   "source": [
    "With a P-value of 0.014 it is actually, considering the small amount of data, quite cool a result. It is not highly significant, yet we could state that interactivity on Facebook is possibly a factor/may play a role in the amount of new BA students a university receives. "
   ]
  },
  {
   "cell_type": "markdown",
   "metadata": {},
   "source": [
    "Should the marketing department of a university come up to us and ask what type of content they should post in order to be more 'likeable' on Facebook, we could answer them by finding out what type of post receives the most love reactions on average (we have 4 data sets, so some generalisation is possible):"
   ]
  },
  {
   "cell_type": "code",
   "execution_count": 17,
   "metadata": {},
   "outputs": [
    {
     "name": "stdout",
     "output_type": "stream",
     "text": [
      "As the numbers indicate, a link on average receives 12.876564267889476 love reactions, \n",
      "a photo 15.32557135175248 and a video 15.929415545421545. We can therefor advise the HEIs to post more videos and less links!\n"
     ]
    }
   ],
   "source": [
    "love_pertype_uva = UvA_posts.groupby('type')['love ratio'].mean()\n",
    "love_pertype_uu = UU_posts.groupby('type')['love ratio'].mean()\n",
    "love_pertype_run = RUN_posts.groupby('type')['love ratio'].mean()\n",
    "love_pertype_ut = UT_posts.groupby('type')['love ratio'].mean()\n",
    "\n",
    "link_love = love_pertype_uva['link'] + love_pertype_uu['link'] + love_pertype_run['link'] + love_pertype_ut['link'] / 4\n",
    "photo_love = love_pertype_uva['photo'] + love_pertype_uu['photo'] + love_pertype_run['photo'] + love_pertype_ut['photo'] / 4\n",
    "video_love = love_pertype_uva['video'] + love_pertype_uu['video'] + love_pertype_run['video'] + love_pertype_ut['video'] / 4\n",
    "\n",
    "print(f'''As the numbers indicate, a link on average receives {link_love} love reactions, \n",
    "a photo {photo_love} and a video {video_love}. We can therefor advise the HEIs to post more videos and less links!''')\n"
   ]
  },
  {
   "cell_type": "markdown",
   "metadata": {},
   "source": [
    "Let's turn to some sentiment analysis user the VADER library:"
   ]
  },
  {
   "cell_type": "code",
   "execution_count": 18,
   "metadata": {},
   "outputs": [],
   "source": [
    "import nltk\n",
    "from nltk.sentiment import vader\n",
    "analyser = vader.SentimentIntensityAnalyzer()\n",
    "\n",
    "def sentiment_score(text):\n",
    "    scores = analyser.polarity_scores(str(text))\n",
    "    return scores['compound']"
   ]
  },
  {
   "cell_type": "markdown",
   "metadata": {},
   "source": [
    "We are mainly interested in the posts by the Universities, although we'll also have a look at some of the comments later. First a visualisation of the data:"
   ]
  },
  {
   "cell_type": "code",
   "execution_count": 19,
   "metadata": {},
   "outputs": [],
   "source": [
    "UvA_posts['sentiment score of post'] = UvA_posts['post_message'].apply(sentiment_score)\n",
    "UU_posts['sentiment score of post'] = UU_posts['post_message'].apply(sentiment_score)\n",
    "RUN_posts['sentiment score of post'] = RUN_posts['post_message'].apply(sentiment_score)\n",
    "UT_posts['sentiment score of post'] = UT_posts['post_message'].apply(sentiment_score)\n",
    "\n",
    "import seaborn as sns\n",
    "import matplotlib.pyplot as plt"
   ]
  },
  {
   "cell_type": "code",
   "execution_count": 20,
   "metadata": {},
   "outputs": [
    {
     "name": "stderr",
     "output_type": "stream",
     "text": [
      "/anaconda3/lib/python3.7/site-packages/scipy/stats/stats.py:1713: FutureWarning: Using a non-tuple sequence for multidimensional indexing is deprecated; use `arr[tuple(seq)]` instead of `arr[seq]`. In the future this will be interpreted as an array index, `arr[np.array(seq)]`, which will result either in an error or a different result.\n",
      "  return np.add.reduce(sorted[indexer] * weights, axis=axis) / sumval\n"
     ]
    },
    {
     "data": {
      "text/plain": [
       "Text(0.5, 0, 'Compound sentiment score')"
      ]
     },
     "execution_count": 20,
     "metadata": {},
     "output_type": "execute_result"
    },
    {
     "data": {
      "image/png": "[encoded data removed]",
      "text/plain": [
       "<Figure size 432x288 with 1 Axes>"
      ]
     },
     "metadata": {},
     "output_type": "display_data"
    }
   ],
   "source": [
    "sns.set(color_codes=True)\n",
    "\n",
    "sns.distplot(UvA_posts['sentiment score of post'], hist=False, label=\"UvA\")\n",
    "sns.distplot(UU_posts['sentiment score of post'],hist=False, label=\"UU\")\n",
    "sns.distplot(RUN_posts['sentiment score of post'],hist=False, label=\"RUN\")\n",
    "sns.distplot(UT_posts['sentiment score of post'],hist=False, label=\"UT\")\n",
    "\n",
    "plt.xlabel(\"Compound sentiment score\")"
   ]
  },
  {
   "cell_type": "markdown",
   "metadata": {},
   "source": [
    "The distributions are quite similar (note that my x-axis has undergone some sort of scaling process which I tried to solve but couldn't). Let's add the mean sentiment compounds to the general dataframe for a better overview:"
   ]
  },
  {
   "cell_type": "code",
   "execution_count": 21,
   "metadata": {},
   "outputs": [
    {
     "data": {
      "text/html": [
       "<div>\n",
       "<style scoped>\n",
       "    .dataframe tbody tr th:only-of-type {\n",
       "        vertical-align: middle;\n",
       "    }\n",
       "\n",
       "    .dataframe tbody tr th {\n",
       "        vertical-align: top;\n",
       "    }\n",
       "\n",
       "    .dataframe thead th {\n",
       "        text-align: right;\n",
       "    }\n",
       "</style>\n",
       "<table border=\"1\" class=\"dataframe\">\n",
       "  <thead>\n",
       "    <tr style=\"text-align: right;\">\n",
       "      <th></th>\n",
       "      <th>University</th>\n",
       "      <th>FB page ID</th>\n",
       "      <th>FB Likes/Followers</th>\n",
       "      <th>Enrolled students</th>\n",
       "      <th>New BA Avg</th>\n",
       "      <th>Total posts 17'-19'</th>\n",
       "      <th>Avg comments / post</th>\n",
       "      <th>THE Ranking</th>\n",
       "      <th>Engagement ratio</th>\n",
       "      <th>love ratio</th>\n",
       "      <th>angry ratio</th>\n",
       "    </tr>\n",
       "  </thead>\n",
       "  <tbody>\n",
       "    <tr>\n",
       "      <th>0</th>\n",
       "      <td>Universiteit Van Amsterdam</td>\n",
       "      <td>113928981951563</td>\n",
       "      <td>122645</td>\n",
       "      <td>32588</td>\n",
       "      <td>5193</td>\n",
       "      <td>564</td>\n",
       "      <td>7.87</td>\n",
       "      <td>62</td>\n",
       "      <td>113.984043</td>\n",
       "      <td>4.747183</td>\n",
       "      <td>0.062403</td>\n",
       "    </tr>\n",
       "    <tr>\n",
       "      <th>1</th>\n",
       "      <td>Universiteit Utrecht</td>\n",
       "      <td>315278225910</td>\n",
       "      <td>70353</td>\n",
       "      <td>30945</td>\n",
       "      <td>5125</td>\n",
       "      <td>656</td>\n",
       "      <td>19.54</td>\n",
       "      <td>74</td>\n",
       "      <td>209.371951</td>\n",
       "      <td>4.733819</td>\n",
       "      <td>0.085763</td>\n",
       "    </tr>\n",
       "    <tr>\n",
       "      <th>2</th>\n",
       "      <td>Radboud Universiteit Nijmegen</td>\n",
       "      <td>212779830334</td>\n",
       "      <td>37360</td>\n",
       "      <td>20442</td>\n",
       "      <td>3584</td>\n",
       "      <td>368</td>\n",
       "      <td>16.23</td>\n",
       "      <td>123</td>\n",
       "      <td>76.929348</td>\n",
       "      <td>4.276520</td>\n",
       "      <td>0.247391</td>\n",
       "    </tr>\n",
       "    <tr>\n",
       "      <th>3</th>\n",
       "      <td>Universiteit Twente</td>\n",
       "      <td>153677961330272</td>\n",
       "      <td>37629</td>\n",
       "      <td>9921</td>\n",
       "      <td>1854</td>\n",
       "      <td>883</td>\n",
       "      <td>1.86</td>\n",
       "      <td>184</td>\n",
       "      <td>28.279728</td>\n",
       "      <td>2.865772</td>\n",
       "      <td>0.012910</td>\n",
       "    </tr>\n",
       "  </tbody>\n",
       "</table>\n",
       "</div>"
      ],
      "text/plain": [
       "                      University       FB page ID  FB Likes/Followers  \\\n",
       "0     Universiteit Van Amsterdam  113928981951563              122645   \n",
       "1           Universiteit Utrecht     315278225910               70353   \n",
       "2  Radboud Universiteit Nijmegen     212779830334               37360   \n",
       "3            Universiteit Twente  153677961330272               37629   \n",
       "\n",
       "   Enrolled students  New BA Avg  Total posts 17'-19'  Avg comments / post  \\\n",
       "0              32588        5193                  564                 7.87   \n",
       "1              30945        5125                  656                19.54   \n",
       "2              20442        3584                  368                16.23   \n",
       "3               9921        1854                  883                 1.86   \n",
       "\n",
       "   THE Ranking  Engagement ratio  love ratio  angry ratio  \n",
       "0           62        113.984043    4.747183     0.062403  \n",
       "1           74        209.371951    4.733819     0.085763  \n",
       "2          123         76.929348    4.276520     0.247391  \n",
       "3          184         28.279728    2.865772     0.012910  "
      ]
     },
     "execution_count": 21,
     "metadata": {},
     "output_type": "execute_result"
    }
   ],
   "source": [
    "complete_df"
   ]
  },
  {
   "cell_type": "code",
   "execution_count": 22,
   "metadata": {},
   "outputs": [
    {
     "data": {
      "text/html": [
       "<div>\n",
       "<style scoped>\n",
       "    .dataframe tbody tr th:only-of-type {\n",
       "        vertical-align: middle;\n",
       "    }\n",
       "\n",
       "    .dataframe tbody tr th {\n",
       "        vertical-align: top;\n",
       "    }\n",
       "\n",
       "    .dataframe thead th {\n",
       "        text-align: right;\n",
       "    }\n",
       "</style>\n",
       "<table border=\"1\" class=\"dataframe\">\n",
       "  <thead>\n",
       "    <tr style=\"text-align: right;\">\n",
       "      <th></th>\n",
       "      <th>University</th>\n",
       "      <th>FB page ID</th>\n",
       "      <th>FB Likes/Followers</th>\n",
       "      <th>Enrolled students</th>\n",
       "      <th>New BA Avg</th>\n",
       "      <th>Total posts 17'-19'</th>\n",
       "      <th>Avg comments / post</th>\n",
       "      <th>THE Ranking</th>\n",
       "      <th>Engagement ratio</th>\n",
       "      <th>love ratio</th>\n",
       "      <th>angry ratio</th>\n",
       "      <th>mean post sentiment</th>\n",
       "    </tr>\n",
       "  </thead>\n",
       "  <tbody>\n",
       "    <tr>\n",
       "      <th>0</th>\n",
       "      <td>Universiteit Van Amsterdam</td>\n",
       "      <td>113928981951563</td>\n",
       "      <td>122645</td>\n",
       "      <td>32588</td>\n",
       "      <td>5193</td>\n",
       "      <td>564</td>\n",
       "      <td>7.87</td>\n",
       "      <td>62</td>\n",
       "      <td>113.984043</td>\n",
       "      <td>4.747183</td>\n",
       "      <td>0.062403</td>\n",
       "      <td>0.306628</td>\n",
       "    </tr>\n",
       "    <tr>\n",
       "      <th>1</th>\n",
       "      <td>Universiteit Utrecht</td>\n",
       "      <td>315278225910</td>\n",
       "      <td>70353</td>\n",
       "      <td>30945</td>\n",
       "      <td>5125</td>\n",
       "      <td>656</td>\n",
       "      <td>19.54</td>\n",
       "      <td>74</td>\n",
       "      <td>209.371951</td>\n",
       "      <td>4.733819</td>\n",
       "      <td>0.085763</td>\n",
       "      <td>0.418287</td>\n",
       "    </tr>\n",
       "    <tr>\n",
       "      <th>2</th>\n",
       "      <td>Radboud Universiteit Nijmegen</td>\n",
       "      <td>212779830334</td>\n",
       "      <td>37360</td>\n",
       "      <td>20442</td>\n",
       "      <td>3584</td>\n",
       "      <td>368</td>\n",
       "      <td>16.23</td>\n",
       "      <td>123</td>\n",
       "      <td>76.929348</td>\n",
       "      <td>4.276520</td>\n",
       "      <td>0.247391</td>\n",
       "      <td>0.425996</td>\n",
       "    </tr>\n",
       "    <tr>\n",
       "      <th>3</th>\n",
       "      <td>Universiteit Twente</td>\n",
       "      <td>153677961330272</td>\n",
       "      <td>37629</td>\n",
       "      <td>9921</td>\n",
       "      <td>1854</td>\n",
       "      <td>883</td>\n",
       "      <td>1.86</td>\n",
       "      <td>184</td>\n",
       "      <td>28.279728</td>\n",
       "      <td>2.865772</td>\n",
       "      <td>0.012910</td>\n",
       "      <td>0.448776</td>\n",
       "    </tr>\n",
       "  </tbody>\n",
       "</table>\n",
       "</div>"
      ],
      "text/plain": [
       "                      University       FB page ID  FB Likes/Followers  \\\n",
       "0     Universiteit Van Amsterdam  113928981951563              122645   \n",
       "1           Universiteit Utrecht     315278225910               70353   \n",
       "2  Radboud Universiteit Nijmegen     212779830334               37360   \n",
       "3            Universiteit Twente  153677961330272               37629   \n",
       "\n",
       "   Enrolled students  New BA Avg  Total posts 17'-19'  Avg comments / post  \\\n",
       "0              32588        5193                  564                 7.87   \n",
       "1              30945        5125                  656                19.54   \n",
       "2              20442        3584                  368                16.23   \n",
       "3               9921        1854                  883                 1.86   \n",
       "\n",
       "   THE Ranking  Engagement ratio  love ratio  angry ratio  mean post sentiment  \n",
       "0           62        113.984043    4.747183     0.062403             0.306628  \n",
       "1           74        209.371951    4.733819     0.085763             0.418287  \n",
       "2          123         76.929348    4.276520     0.247391             0.425996  \n",
       "3          184         28.279728    2.865772     0.012910             0.448776  "
      ]
     },
     "execution_count": 22,
     "metadata": {},
     "output_type": "execute_result"
    }
   ],
   "source": [
    "complete_df.loc[[0], 'mean post sentiment'] = UvA_posts['sentiment score of post'].mean()\n",
    "complete_df.loc[[1], 'mean post sentiment'] = UU_posts['sentiment score of post'].mean()\n",
    "complete_df.loc[[2], 'mean post sentiment'] = RUN_posts['sentiment score of post'].mean()\n",
    "complete_df.loc[[3], 'mean post sentiment'] = UT_posts['sentiment score of post'].mean()\n",
    "\n",
    "complete_df"
   ]
  },
  {
   "cell_type": "markdown",
   "metadata": {},
   "source": [
    "We can also look at some of the key words used by each university to get a proxy of what they find important, or what they like to communicate to followers:"
   ]
  },
  {
   "cell_type": "code",
   "execution_count": 23,
   "metadata": {},
   "outputs": [
    {
     "name": "stderr",
     "output_type": "stream",
     "text": [
      "[nltk_data] Downloading package stopwords to\n",
      "[nltk_data]     /Users/danielschene/nltk_data...\n",
      "[nltk_data]   Package stopwords is already up-to-date!\n"
     ]
    }
   ],
   "source": [
    "nltk.download('stopwords')\n",
    "#nltk.download('punkt') -> not used\n",
    "fq = nltk.FreqDist()\n",
    "from nltk.corpus import stopwords\n",
    "stopwords = stopwords.words('english')"
   ]
  },
  {
   "cell_type": "code",
   "execution_count": 24,
   "metadata": {},
   "outputs": [
    {
     "data": {
      "text/plain": [
       "[]"
      ]
     },
     "execution_count": 24,
     "metadata": {},
     "output_type": "execute_result"
    }
   ],
   "source": [
    "UvA_posts['post_message'] = UvA_posts['post_message'].astype(str)\n",
    "UvA_string = (' '.join(UvA_posts['post_message'])).lower()\n",
    "\n",
    "UvA_tokens = nltk.word_tokenize(UvA_string)\n",
    "UvA_nltk_text = nltk.text.Text(UvA_tokens)\n",
    "\n",
    "no_stopwords_UvA = [word for word in UvA_tokens if word not in stopwords and word.isalpha()]\n",
    "\n",
    "fq_uva = nltk.FreqDist(no_stopwords_UvA)\n",
    "\n",
    "fq.most_common(15)"
   ]
  },
  {
   "cell_type": "markdown",
   "metadata": {},
   "source": [
    "While this still includes a lot of Dutch stopwords, we can see that 'uva' and 'amsterdam' are important keywords, as well as 'student' and 'university'. Let's look what the UT posts reveal:"
   ]
  },
  {
   "cell_type": "code",
   "execution_count": 25,
   "metadata": {},
   "outputs": [
    {
     "data": {
      "text/plain": [
       "[('de', 541),\n",
       " ('twente', 410),\n",
       " ('university', 336),\n",
       " ('van', 304),\n",
       " ('en', 264),\n",
       " ('https', 231),\n",
       " ('je', 221),\n",
       " ('ut', 216),\n",
       " ('het', 212),\n",
       " ('een', 202),\n",
       " ('op', 191),\n",
       " ('students', 174),\n",
       " ('new', 152),\n",
       " ('technology', 140),\n",
       " ('open', 136)]"
      ]
     },
     "execution_count": 25,
     "metadata": {},
     "output_type": "execute_result"
    }
   ],
   "source": [
    "UT_posts['post_message'] = UT_posts['post_message'].astype(str)\n",
    "UT_string = (' '.join(UT_posts['post_message'])).lower()\n",
    "\n",
    "UT_tokens = nltk.word_tokenize(UT_string)\n",
    "UT_nltk_text = nltk.text.Text(UT_tokens)\n",
    "\n",
    "no_stopwords_UT = [word for word in UT_tokens if word not in stopwords and word.isalpha()]\n",
    "\n",
    "fq_ut = nltk.FreqDist(no_stopwords_UT)\n",
    "\n",
    "fq_ut.most_common(15)"
   ]
  },
  {
   "cell_type": "code",
   "execution_count": 26,
   "metadata": {},
   "outputs": [
    {
     "data": {
      "text/plain": [
       "[('utrecht', 306),\n",
       " ('de', 165),\n",
       " ('students', 155),\n",
       " ('university', 151),\n",
       " ('van', 112),\n",
       " ('uu', 99),\n",
       " ('read', 81),\n",
       " ('student', 80),\n",
       " ('new', 75),\n",
       " ('het', 75),\n",
       " ('city', 65),\n",
       " ('een', 64),\n",
       " ('year', 63),\n",
       " ('one', 62),\n",
       " ('day', 60)]"
      ]
     },
     "execution_count": 26,
     "metadata": {},
     "output_type": "execute_result"
    }
   ],
   "source": [
    "UU_posts['post_message'] = UU_posts['post_message'].astype(str)\n",
    "UU_string = (' '.join(UU_posts['post_message'])).lower()\n",
    "\n",
    "UU_tokens = nltk.word_tokenize(UU_string)\n",
    "UU_nltk_text = nltk.text.Text(UU_tokens)\n",
    "\n",
    "no_stopwords_UU = [word for word in UU_tokens if word not in stopwords and word.isalpha()]\n",
    "\n",
    "fq_uu = nltk.FreqDist(no_stopwords_UU)\n",
    "\n",
    "fq_uu.most_common(15)"
   ]
  },
  {
   "cell_type": "markdown",
   "metadata": {},
   "source": [
    "These frequently used words seem to be very similar across the HEIs. What I find interesting is that in all the three cases above, the location seems to take presedence over words like 'student' or 'students'. What we can ask is whether posts about students generally receive more positive reactions (or engagement) than posts about other things. We take the UU as our example:"
   ]
  },
  {
   "cell_type": "code",
   "execution_count": 27,
   "metadata": {},
   "outputs": [
    {
     "data": {
      "text/plain": [
       "include students\n",
       "0    241.124752\n",
       "1    103.178808\n",
       "Name: engagement_fb, dtype: float64"
      ]
     },
     "execution_count": 27,
     "metadata": {},
     "output_type": "execute_result"
    }
   ],
   "source": [
    "UU_posts['include students'] = UU_posts['post_message'].str.find('students')\n",
    "\n",
    "UU_posts.loc[UU_posts['include students'] >= 0, 'include students'] = 1\n",
    "UU_posts.loc[UU_posts['include students'] <0, 'include students'] = 0\n",
    "\n",
    "UU_posts.groupby('include students')['engagement_fb'].mean()"
   ]
  },
  {
   "cell_type": "code",
   "execution_count": 28,
   "metadata": {},
   "outputs": [
    {
     "data": {
      "text/plain": [
       "include students\n",
       "0    4.944798\n",
       "1    4.028228\n",
       "Name: love ratio, dtype: float64"
      ]
     },
     "execution_count": 28,
     "metadata": {},
     "output_type": "execute_result"
    }
   ],
   "source": [
    "UU_posts.groupby('include students')['love ratio'].mean()"
   ]
  },
  {
   "cell_type": "markdown",
   "metadata": {},
   "source": [
    "It seems that the fb-following of the UU does not like posts about students as much as about other topics. But what about the location, Utrecht?"
   ]
  },
  {
   "cell_type": "code",
   "execution_count": 29,
   "metadata": {},
   "outputs": [
    {
     "data": {
      "text/plain": [
       "Utrecht\n",
       "0    174.228710\n",
       "1    268.326531\n",
       "Name: engagement_fb, dtype: float64"
      ]
     },
     "execution_count": 29,
     "metadata": {},
     "output_type": "execute_result"
    }
   ],
   "source": [
    "UU_posts['Utrecht'] = UU_posts['post_message'].str.find('Utrecht')\n",
    "\n",
    "UU_posts.loc[UU_posts['Utrecht'] >= 0, 'Utrecht'] = 1\n",
    "UU_posts.loc[UU_posts['Utrecht'] <0, 'Utrecht'] = 0\n",
    "\n",
    "UU_posts.groupby('Utrecht')['engagement_fb'].mean()"
   ]
  },
  {
   "cell_type": "code",
   "execution_count": 30,
   "metadata": {},
   "outputs": [
    {
     "data": {
      "text/plain": [
       "Utrecht\n",
       "0    4.424210\n",
       "1    5.253204\n",
       "Name: love ratio, dtype: float64"
      ]
     },
     "execution_count": 30,
     "metadata": {},
     "output_type": "execute_result"
    }
   ],
   "source": [
    "UU_posts.groupby('Utrecht')['love ratio'].mean()"
   ]
  },
  {
   "cell_type": "markdown",
   "metadata": {},
   "source": [
    "Interestingly, when the posts include or mention Utrecht, there is much more engagement and love. Are posts about Utrecht perhaps more or less sentiment-laden? As location seems to be an important factor in university choice by students, it would also seem logical for universities to strongly brand themselves in terms of their location:"
   ]
  },
  {
   "cell_type": "code",
   "execution_count": 31,
   "metadata": {},
   "outputs": [
    {
     "data": {
      "text/plain": [
       "Utrecht\n",
       "0    0.360684\n",
       "1    0.514918\n",
       "Name: sentiment score of post, dtype: float64"
      ]
     },
     "execution_count": 31,
     "metadata": {},
     "output_type": "execute_result"
    }
   ],
   "source": [
    "UU_posts.groupby('Utrecht')['sentiment score of post'].mean()"
   ]
  },
  {
   "cell_type": "markdown",
   "metadata": {},
   "source": [
    "And apparently posts about Utrecht are also more positive in terms of sentiment (and therefor less neural).\n",
    "\n",
    "Is this also the case for student posts? (There is of course some overlap):"
   ]
  },
  {
   "cell_type": "code",
   "execution_count": 32,
   "metadata": {},
   "outputs": [
    {
     "data": {
      "text/plain": [
       "include students\n",
       "0    0.375068\n",
       "1    0.562827\n",
       "Name: sentiment score of post, dtype: float64"
      ]
     },
     "execution_count": 32,
     "metadata": {},
     "output_type": "execute_result"
    }
   ],
   "source": [
    "UU_posts.groupby('include students')['sentiment score of post'].mean()"
   ]
  },
  {
   "cell_type": "markdown",
   "metadata": {},
   "source": [
    "What would be interesting, for instance, is to compute a city posts / total posts ratio for each university, and compare these results with enrollment data to see if talking about the location a lot in facebook posts perhaps has an effect on enrollment numbers, but this is something for future research. "
   ]
  },
  {
   "cell_type": "markdown",
   "metadata": {},
   "source": [
    "# 4. Conclusions and Reflections\n",
    "\n",
    "### Some preliminary findings in the data\n",
    "\n",
    "Infinitely more explorations of this data is possible, and this will definitely be further investigated beyond the scope of this report. However, the analyses above, while giving us some insight into the use of Facebook by the chosen Dutch universities, are also to exemplify the learned skills and research tools in the Coding the Humanities course. It goes without saying that many of these scripts can be used to explore or compare other variables within and outside of the data provided here.\n",
    "\n",
    "Concerning the set of research questions this paper set out to answer, or at least to give this a shot, what follows is a short recap:\n",
    "\n",
    "What seems to be the case, at least in part, is that the more posts an HEI produces, the less the engagement turns out to be. This is examplified by the UT having been the most active on facebook by far, but also having the lowest level of engagement by far. For the 883 updates it has posted throughout a two year period, an average of 1.86 comments per post, and a mean engagement ratio of 28.28 both suggest that more content decreases engagement. This is also supported by the numbers for the Radboud, which is the least active of all universities with 338 posts in the two year period, yet it still has an average of 16.23 (the runner up) comments per post. Furthermore, both photos and links appear to be the most engagement-inducing, and also the most used, types of posts. This ties in with the founding of previous research in that the HEIs have to compete for engagement online more and more, and that they try to do this by posting certain types of content. \n",
    "\n",
    "A second finding, even though the dataset is very small, is that the ratio of engagement an HEI achieves on Facebook may play a role in the recruitement of new BA students. This is just one of many factors, but as this papers concerns itself with social media data, we do not look beyond this at the moment. It also appears to be the case that visual content (videos and photos) are received and reacted to most positively by users.\n",
    "\n",
    "The mean sentiment compound score of posts by the HEIs show a somewhat strange pattern in that the larger a university is in terms of total students, the less positive its posts score in terms of sentiment. The UvA has the largest student body, and a mean sentiment score of 0.31. The second largest university, the UU, has a score of 0.42, followed by the third largest HEI, the Radboud, with a sentiment score of 0.43, and the smallest university, the UT, has the highest sentiment score, namely 0.45. This might be explained along the lines of small universities having to rely more on their social-media outlets to recruit new students (the UT is also the smallest in terms on new BA students, while it posts the most of all universities). \n",
    "\n",
    "Another findings is that post content having something to do with the student body is received with less love reactions and engagement than other types of posts, for instance the geographical location of a university. It becomes clear that, in the case of the UU, posts about Utrecht elicit higher degrees of engagement than posts which do not contain this word. Also, posts about or including Utrecht are generally more sentiment-laden than other posts, and this is also the case for posts about or including students. \n",
    "\n",
    "### Reflection\n",
    "\n",
    "This paper and project were of course mainly created and conducted to get some hands-on experience with online data analysis. It is far from perfect, and one of its setsbacks is the small sample. Generalisation with a sample of only 4 pages is impossible, and statistical analysis is even less meaningful. \n",
    "\n",
    "A second point is that the project definitely lacks direction; I had some scenarios in mind, but was unable to pin it down to a clear, demarcated RQ in the end. This is both a weakness and an advantage; for me in terms of the learning experience and curve, it is actually quite useful. I hope it shows some examples of what I have learned in the course, and I think a further investigation of universities' facebook usage is actually really interesting, and something I'm going to continue to work on. The lack of direction caused me to do analyses more in an wandering way, choosing what seemed interesting (and still related to the initial research topics) while this also makes the notebook a bit chaotic maybe. \n",
    "\n",
    "A third weakness is in terms of the DMIs combined with the pages I chose to mine data from. While I expected all universities to post their messages in English, a lot of posts were in Dutch and this complicated the sentiment analyses conducted on the posts. Obviously VADER is not made to recognize whether a post is in English or not, and it returned some random scores or 0 scores for posts which were in Dutch. These scores also make the data flawed and less usable and accurate.\n",
    "\n",
    "Even though I tried to combine some elements of the course while also providing some new code, there are many options of comparison, combination and analysis which I have not done in this project. A more in-depth look at the comments would have been very interesting, especially when comparing post sentiment with comment sentiment, for instance. Another interesting feature would have been post length and even more complex kinds of parsing or tagging of the posts, and relate these to some of the more salient features. I also did not do anything with the ranking data, just to name something, which I regret but simply did not have space for.\n",
    "\n",
    "All in all this is a field of research which is still young, as I've definitely come to know through my review of some of the literature, and this provides so many exciting options. Even though this project was small and perhaps a bit shallow at times, I do feel like I've been exposed to the possibilities these kinds of data open up."
   ]
  },
  {
   "cell_type": "markdown",
   "metadata": {},
   "source": [
    "#### Works Cited\n",
    "\n",
    "Palmer, A., Koenig-Lewis, N., & Asaad, Y. (2016). Brand identification in higher education: A conditional process analysis. *Journal of Business Research*, 69, 3033-3040\n",
    "\n",
    "Belanger, C.H., Bali, S., & Longden, B. (2014). How Canadian universities use social media to brand themselves. *Tertiary Education and Management*, 20(1), 14-29\n",
    "\n",
    "Balaji, M.S., Roy, S.K., & Sadeque, S. (2016). Antecedents and consequences of university brand identification. *Journal of Business Research*, 69, 3023–3032\n",
    "\n",
    "Peruta, A., & Shields, A.B. (2018). Marketing your university on social media: a content analysis of Facebook post types and formats. *Journal of Marketing for Higher Education*, 28(2), 175-191\n",
    "\n",
    "Williams, R. L., & Omar, M. (2013). Applying brand management to higher education through the use of the brand flux modelTM: The case of Arcadia University. *AMA Winter Educators’\n",
    "Conference Proceedings*, 24, 248–258\n",
    "\n",
    "Fujita, M., Harrigan, P., Roy, S.K., & Soutar, G. (2018). Two-way acculturation in social media: The role of institutional efforts. *Technological Forecasting and Social Change*\n",
    "\n",
    "Clark, M., Fine, M.B., & Scheuer, C.L. (2017). Relationship quality in higher education marketing: the role of social media engagement. *Journal of Marketing for Higher Education*, 27(1), 40-58\n",
    "\n",
    "Brech et al. (2017). Engaging fans and the community in social media:\n",
    "interaction with institutions of higher education on Facebook. *Journal of Marketing for Higher Education*, 27(1), 112-130\n",
    "\n",
    "Rutter, R., Roper, S., & Lettice, F. (2016). Social media interaction, the university brand and recruitment performance. *Journal of Business Research*, 69, 3096-3104\n",
    "\n",
    "Kumar et al. (2018). Sentiment dynamics in social media news channels. *Online Social Networks and Media*, 8, 42-54\n"
   ]
  }
 ],
 "metadata": {
  "kernelspec": {
   "display_name": "Python 3",
   "language": "python",
   "name": "python3"
  },
  "language_info": {
   "codemirror_mode": {
    "name": "ipython",
    "version": 3
   },
   "file_extension": ".py",
   "mimetype": "text/x-python",
   "name": "python",
   "nbconvert_exporter": "python",
   "pygments_lexer": "ipython3",
   "version": "3.7.1"
  }
 },
 "nbformat": 4,
 "nbformat_minor": 2
}
